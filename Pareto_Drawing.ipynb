{
  "nbformat": 4,
  "nbformat_minor": 0,
  "metadata": {
    "colab": {
      "name": "Pareto_Drawing.ipynb",
      "provenance": [],
      "include_colab_link": true
    },
    "kernelspec": {
      "name": "python3",
      "display_name": "Python 3"
    },
    "language_info": {
      "name": "python"
    }
  },
  "cells": [
    {
      "cell_type": "markdown",
      "metadata": {
        "id": "view-in-github",
        "colab_type": "text"
      },
      "source": [
        "<a href=\"https://colab.research.google.com/github/Chilefase/Tradespace/blob/master/Pareto_Drawing.ipynb\" target=\"_parent\"><img src=\"https://colab.research.google.com/assets/colab-badge.svg\" alt=\"Open In Colab\"/></a>"
      ]
    },
    {
      "cell_type": "code",
      "source": [
        "import numpy as np\n",
        "import pandas as pd\n",
        "import operator\n",
        "import matplotlib.pyplot as plt"
      ],
      "metadata": {
        "id": "Yv-ymFGDxVsx"
      },
      "execution_count": null,
      "outputs": []
    },
    {
      "cell_type": "code",
      "execution_count": null,
      "metadata": {
        "id": "ggprpEZHxTY7"
      },
      "outputs": [],
      "source": [
        "def is_pareto(costs, where,return_mask = True):\n",
        "    \"\"\"\n",
        "    Find the pareto-efficient points\n",
        "    :param costs: An (n_points, n_costs) array\n",
        "    :param return_mask: True to return a mask\n",
        "    :return: An array of indices of pareto-efficient points.\n",
        "        If return_mask is True, this will be an (n_points, ) boolean array\n",
        "        Otherwise it will be a (n_efficient_points, ) integer array of indices.\n",
        "    \"\"\"\n",
        "    if where =='TopLeft':\n",
        "        where=1\n",
        "    elif where =='TopRight':\n",
        "        where =2\n",
        "    elif where =='BottomLeft':\n",
        "        where =3\n",
        "    elif where =='BottomRight':\n",
        "        where =4\n",
        "    elif where not in [1,2,3,4]:\n",
        "        raise NotImplementedError()\n",
        "    #lt<\n",
        "    #gt>\n",
        "    if where == 3:\n",
        "        # op1 = 1\n",
        "        op2 = operator.lt\n",
        "    elif where ==2:\n",
        "        # op1 = 1\n",
        "        op2 = operator.gt\n",
        "    elif where ==4:\n",
        "        x = costs.transpose()[0]*-1\n",
        "        y = costs.transpose()[1]\n",
        "        costs = np.array([x,y]).transpose()\n",
        "\n",
        "        op2 = operator.lt\n",
        "    elif where ==1:\n",
        "        x = costs.transpose()[0]*-1\n",
        "        y = costs.transpose()[1]\n",
        "        costs = np.array([x,y]).transpose()\n",
        "        op2 = operator.gt\n",
        "    \n",
        "    is_efficient = np.arange(costs.shape[0])\n",
        "    n_points = costs.shape[0]\n",
        "    next_point_index = 0  # Next index in the is_efficient array to search for\n",
        "    while next_point_index<len(costs):\n",
        "    # while op1(next_point_index,len(costs)):\n",
        "        # nondominated_point_mask = np.any(costs>costs[next_point_index], axis=1)\n",
        "        nondominated_point_mask = np.any(op2(costs,costs[next_point_index]), axis=1)\n",
        "        nondominated_point_mask[next_point_index] = True\n",
        "        is_efficient = is_efficient[nondominated_point_mask]  # Remove dominated points\n",
        "        costs = costs[nondominated_point_mask]\n",
        "        next_point_index = np.sum(nondominated_point_mask[:next_point_index])+1\n",
        "    if return_mask:\n",
        "        is_efficient_mask = np.zeros(n_points, dtype = bool)\n",
        "        is_efficient_mask[is_efficient] = True\n",
        "        return is_efficient_mask\n",
        "    else:\n",
        "        return is_efficient"
      ]
    },
    {
      "cell_type": "code",
      "source": [
        "file_name = 'pareto_example.csv'\n",
        "df = pd.read_csv(file_name, header=None)\n",
        "xy = df.to_numpy()\n",
        "pareto = is_pareto(xy, 'BottomLeft')\n",
        "df_out = pd.DataFrame(xy[pareto])\n",
        "df_out = df_out.sort_values(by=[0])\n",
        "df_out.to_csv('pareto_points.csv')"
      ],
      "metadata": {
        "id": "nm_CkX2gxZ6L"
      },
      "execution_count": null,
      "outputs": []
    },
    {
      "cell_type": "code",
      "source": [
        "fig,ax = plt.subplots()\n",
        "ax.scatter(df[0],df[1],color='b')\n",
        "ax.plot(df_out[0],df_out[1],color='r')\n",
        "fig.show()"
      ],
      "metadata": {
        "colab": {
          "base_uri": "https://localhost:8080/",
          "height": 265
        },
        "id": "_giMhl_gzD6D",
        "outputId": "f5741dcf-a228-413e-cad7-c4983cab1748"
      },
      "execution_count": null,
      "outputs": [
        {
          "output_type": "display_data",
          "data": {
            "image/png": "[encoded data removed]",
            "text/plain": [
              "<Figure size 432x288 with 1 Axes>"
            ]
          },
          "metadata": {
            "needs_background": "light"
          }
        }
      ]
    },
    {
      "cell_type": "code",
      "source": [
        ""
      ],
      "metadata": {
        "id": "y30MP6Yb_OZa"
      },
      "execution_count": null,
      "outputs": []
    }
  ]
}